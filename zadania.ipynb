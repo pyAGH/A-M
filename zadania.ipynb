{
 "cells": [
  {
   "cell_type": "markdown",
   "metadata": {},
   "source": [
    "### Zadania wprowadzeniowe 07.04.2021"
   ]
  },
  {
   "cell_type": "markdown",
   "metadata": {},
   "source": [
    "## 1. Jaka jest wartość funkcji f(10):"
   ]
  },
  {
   "cell_type": "code",
   "execution_count": 12,
   "metadata": {},
   "outputs": [
    {
     "name": "stdout",
     "output_type": "stream",
     "text": [
      "11\n"
     ]
    }
   ],
   "source": [
    "def f(x):\n",
    "    s=1\n",
    "    while s < x:\n",
    "        s += 2\n",
    "    return s\n",
    "\n",
    "print(f(10))"
   ]
  },
  {
   "cell_type": "code",
   "execution_count": null,
   "metadata": {},
   "outputs": [],
   "source": [
    "x=10\n",
    "\n",
    "s=1\n",
    "\n",
    "s=1+2=3\n",
    "\n",
    "s=3+2=5\n",
    "\n",
    "s=7\n",
    "\n",
    "s=9\n",
    "\n",
    "s=11\n",
    "\n"
   ]
  },
  {
   "cell_type": "markdown",
   "metadata": {},
   "source": [
    "## 2. Jaki będzie wynik działania programu:"
   ]
  },
  {
   "cell_type": "code",
   "execution_count": 18,
   "metadata": {},
   "outputs": [
    {
     "name": "stdout",
     "output_type": "stream",
     "text": [
      "Nr iteracji wynosi:  1\n",
      "Nr iteracji wynosi:  2\n",
      "Nr iteracji wynosi:  4\n",
      "Nr iteracji wynosi:  5\n",
      "Nr iteracji wynosi:  7\n",
      "Nr iteracji wynosi:  8\n"
     ]
    }
   ],
   "source": [
    "a=9\n",
    "for i in range(a):\n",
    "    if i%3!=0:\n",
    "        print(\"Nr iteracji wynosi: \",i)\n",
    "        \n",
    "\n",
    "a=9 \n",
    "\n",
    "#startuje pętla:\n",
    "i=0   --> 0%3=0\n",
    "i=1   --> 1%3=1 --> Nr iteracji wynosi: 1\n",
    "i=2   --> 2%3=2 --> Nr iteracji wynosi: 2\n",
    "i=3\n",
    "i=4\n",
    ".\n",
    ".\n",
    ".\n",
    "i=8\n",
    "\n",
    "\n",
    "        "
   ]
  },
  {
   "cell_type": "code",
   "execution_count": null,
   "metadata": {},
   "outputs": [],
   "source": [
    "print(1%123)\n",
    "\n",
    "1 - (0 x 123) = 1"
   ]
  },
  {
   "cell_type": "code",
   "execution_count": null,
   "metadata": {},
   "outputs": [],
   "source": [
    "print(2%3)"
   ]
  },
  {
   "cell_type": "markdown",
   "metadata": {},
   "source": [
    "## 3. Jaki będzie wynik działania programu:"
   ]
  },
  {
   "cell_type": "code",
   "execution_count": 21,
   "metadata": {},
   "outputs": [
    {
     "name": "stdout",
     "output_type": "stream",
     "text": [
      "25\n"
     ]
    }
   ],
   "source": [
    "a=10\n",
    "suma=0\n",
    "for i in range(a):\n",
    "    if i%2!=0:\n",
    "        suma=suma+i \n",
    "print(suma)"
   ]
  },
  {
   "cell_type": "code",
   "execution_count": null,
   "metadata": {},
   "outputs": [],
   "source": [
    "a=5\n",
    "suma=0\n",
    "#pętla:\n",
    "i=0 --> ...\n",
    "i=1 --> suma=0+1=1\n",
    "i=2 --> ...\n",
    "i=3 --> suma=suma+i=1+3=4\n",
    "i=4 --> ...\n",
    "i=5\n",
    "i=6\n",
    "print(suma) 4\n",
    "\n",
    "\n",
    "\n"
   ]
  },
  {
   "cell_type": "markdown",
   "metadata": {},
   "source": [
    "## 4. Jaki będzie wynik działania programu:"
   ]
  },
  {
   "cell_type": "code",
   "execution_count": 29,
   "metadata": {},
   "outputs": [
    {
     "name": "stdout",
     "output_type": "stream",
     "text": [
      "20\n"
     ]
    }
   ],
   "source": [
    "import numpy as np\n",
    "x=np.array([3, 2, 4, 5, 4, 2])\n",
    "\n",
    "suma=0\n",
    "for i in range(0,len(x)):\n",
    "    suma=suma+x[i]\n",
    "    \n",
    "print(suma)    \n"
   ]
  },
  {
   "cell_type": "code",
   "execution_count": 27,
   "metadata": {},
   "outputs": [],
   "source": [
    "x=[3, 2, 4, 5, 4, 2]\n",
    "suma=0\n",
    "#pętla:\n",
    "    i=0 --> suma=suma+x[i]=0+3=3\n",
    "    i=1 --> suma=suma+x[i]=3+2=5\n",
    "    i=2 --> suma=suma+x[i]=5+4=9\n",
    "    i=3 --> suma=suma+x[i]=14\n",
    "    i=4 --> suma=suma+x[i]=18\n",
    "    i=5 --> suma=suma+x[i]=20\n",
    "\n"
   ]
  },
  {
   "cell_type": "code",
   "execution_count": 23,
   "metadata": {},
   "outputs": [
    {
     "name": "stdout",
     "output_type": "stream",
     "text": [
      "[ 3  2  4  1  7 10  2]\n"
     ]
    }
   ],
   "source": [
    "print(x)"
   ]
  },
  {
   "cell_type": "code",
   "execution_count": 24,
   "metadata": {},
   "outputs": [
    {
     "name": "stdout",
     "output_type": "stream",
     "text": [
      "7\n"
     ]
    }
   ],
   "source": [
    "print(x[4])"
   ]
  },
  {
   "cell_type": "code",
   "execution_count": 40,
   "metadata": {},
   "outputs": [
    {
     "name": "stdout",
     "output_type": "stream",
     "text": [
      "0\n"
     ]
    }
   ],
   "source": [
    "a=6\n",
    "b=3\n",
    "\n",
    "print(a%b)"
   ]
  },
  {
   "cell_type": "code",
   "execution_count": 35,
   "metadata": {},
   "outputs": [
    {
     "name": "stdout",
     "output_type": "stream",
     "text": [
      "2.3333333333333335\n"
     ]
    }
   ],
   "source": [
    "print(a/b)"
   ]
  },
  {
   "cell_type": "code",
   "execution_count": null,
   "metadata": {},
   "outputs": [],
   "source": []
  }
 ],
 "metadata": {
  "kernelspec": {
   "display_name": "Python 3",
   "language": "python",
   "name": "python3"
  },
  "language_info": {
   "codemirror_mode": {
    "name": "ipython",
    "version": 3
   },
   "file_extension": ".py",
   "mimetype": "text/x-python",
   "name": "python",
   "nbconvert_exporter": "python",
   "pygments_lexer": "ipython3",
   "version": "3.9.0"
  }
 },
 "nbformat": 4,
 "nbformat_minor": 4
}
